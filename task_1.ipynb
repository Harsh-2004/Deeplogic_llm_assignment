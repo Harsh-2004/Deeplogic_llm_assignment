{
 "cells": [
  {
   "cell_type": "code",
   "execution_count": 1,
   "id": "d9d055d5",
   "metadata": {},
   "outputs": [
    {
     "name": "stderr",
     "output_type": "stream",
     "text": [
      "[nltk_data] Downloading package punkt to\n",
      "[nltk_data]     C:\\Users\\harsh\\AppData\\Roaming\\nltk_data...\n",
      "[nltk_data]   Package punkt is already up-to-date!\n"
     ]
    }
   ],
   "source": [
    "import fitz  # PyMuPDF\n",
    "import pytesseract\n",
    "from PIL import Image\n",
    "import io\n",
    "pytesseract.pytesseract.tesseract_cmd = r'C:\\Program Files\\Tesseract-OCR\\tesseract.exe'\n",
    "path_1 = r'C:\\Users\\harsh\\Downloads\\test data\\sample 4.pdf'\n",
    "document = fitz.open(path_1)\n",
    "text = ''\n",
    "import re\n",
    "import nltk\n",
    "from nltk.tokenize import sent_tokenize, word_tokenize\n",
    "\n",
    "nltk.download('punkt')\n",
    "\n",
    "def clean_text(text):\n",
    "    text = re.sub(r'\\s+', ' ', text)  # Remove extra whitespace\n",
    "    text = re.sub(r'[^\\w\\s]', '', text)  # Remove special characters\n",
    "    return text.strip()\n",
    "for page in document:\n",
    "    # Extract and append text from the page\n",
    "    page_text = page.get_text()\n",
    "    text += page_text + \"\\n\"\n",
    "\n",
    "    # Extract images from the page\n",
    "    images = page.get_images(full=True)\n",
    "    \n",
    "    for img_index, img in enumerate(images):\n",
    "        xref = img[0]\n",
    "        base_image = document.extract_image(xref)\n",
    "        image_bytes = base_image[\"image\"]\n",
    "        image = Image.open(io.BytesIO(image_bytes))\n",
    "        \n",
    "        # Perform OCR on the image\n",
    "        ocr_text = pytesseract.image_to_string(image)\n",
    "        text += f\"\\n[Image {img_index + 1} OCR Text]\\n{ocr_text}\\n\"\n",
    "\n",
    "# Write the extracted text and OCR results to a file\n",
    "with open('output.txt', \"w\", encoding=\"utf-8\") as f:\n",
    "        f.write(text)\n",
    "with open('output.txt', \"r\", encoding=\"utf-8\") as f:\n",
    "        text = f.read()\n",
    "    \n",
    "cleaned_text = clean_text(text)\n",
    "sentences = sent_tokenize(cleaned_text)\n",
    "tokens = [word_tokenize(sentence) for sentence in sentences]\n",
    "    \n",
    "with open('output_1.txt', \"w\", encoding=\"utf-8\") as f:\n",
    "    for sentence in tokens:\n",
    "        f.write(' '.join(sentence) + '\\n')\n"
   ]
  },
  {
   "cell_type": "code",
   "execution_count": null,
   "id": "9286b116",
   "metadata": {},
   "outputs": [],
   "source": []
  },
  {
   "cell_type": "code",
   "execution_count": null,
   "id": "07d53950",
   "metadata": {},
   "outputs": [],
   "source": []
  }
 ],
 "metadata": {
  "kernelspec": {
   "display_name": "Python 3 (ipykernel)",
   "language": "python",
   "name": "python3"
  },
  "language_info": {
   "codemirror_mode": {
    "name": "ipython",
    "version": 3
   },
   "file_extension": ".py",
   "mimetype": "text/x-python",
   "name": "python",
   "nbconvert_exporter": "python",
   "pygments_lexer": "ipython3",
   "version": "3.11.5"
  }
 },
 "nbformat": 4,
 "nbformat_minor": 5
}
